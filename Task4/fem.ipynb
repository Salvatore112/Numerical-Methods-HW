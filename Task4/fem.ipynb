{
 "cells": [
  {
   "cell_type": "markdown",
   "metadata": {},
   "source": [
    "Algorithm from http://www.ict.nsc.ru/matmod/files/textbooks/KhakimzyanovCherny-2.pdf"
   ]
  },
  {
   "cell_type": "code",
   "execution_count": 57,
   "metadata": {},
   "outputs": [],
   "source": [
    "import math\n",
    "import numpy as np\n",
    "import matplotlib.pyplot as plt"
   ]
  },
  {
   "cell_type": "code",
   "execution_count": 58,
   "metadata": {},
   "outputs": [],
   "source": [
    "def tridiagonal_matrix_algorithm(\n",
    "    number_of_equations,\n",
    "    a_coefficients,\n",
    "    b_coefficients,\n",
    "    c_coefficients,\n",
    "    d_coefficients,\n",
    "    y,\n",
    "):\n",
    "    for i in range(1, number_of_equations):\n",
    "        b_coefficients[i] -= (\n",
    "            a_coefficients[i] / b_coefficients[i - 1] * c_coefficients[i - 1]\n",
    "        )\n",
    "        d_coefficients[i] -= (\n",
    "            a_coefficients[i] / b_coefficients[i - 1] * d_coefficients[i - 1]\n",
    "        )\n",
    "\n",
    "    y[number_of_equations - 1] = (\n",
    "        d_coefficients[number_of_equations - 1]\n",
    "        / b_coefficients[number_of_equations - 1]\n",
    "    )\n",
    "    for i in range(number_of_equations - 1, 0, -1):\n",
    "        j = i - 1\n",
    "        y[j] = (d_coefficients[j] - c_coefficients[j] * y[j + 1]) / b_coefficients[j]\n",
    "    return y"
   ]
  },
  {
   "cell_type": "code",
   "execution_count": 59,
   "metadata": {},
   "outputs": [],
   "source": [
    "def basis_function(x_values, h, n, i, x):\n",
    "    if i == n:\n",
    "        if x_values[n - 1] <= x <= x_values[n]:\n",
    "            return (x - x_values[n - 1]) / h\n",
    "        else:\n",
    "            return 0\n",
    "    elif i == 0:\n",
    "        if x_values[0] <= x <= x_values[1]:\n",
    "            return (x_values[1] - x) / h\n",
    "        else:\n",
    "            return 0\n",
    "    else:\n",
    "        if x_values[i - 1] <= x <= x_values[i]:\n",
    "            return (x - x_values[i - 1]) / h\n",
    "        elif x_values[i] <= x <= x_values[i + 1]:\n",
    "            return (x_values[i + 1] - x) / h\n",
    "        else:\n",
    "            return 0"
   ]
  },
  {
   "cell_type": "code",
   "execution_count": 60,
   "metadata": {},
   "outputs": [],
   "source": [
    "def dot_f_basis(λ, x_values, h, i):\n",
    "    x_left = x_values[i - 1]\n",
    "    x_curr = x_values[i]\n",
    "    x_right = x_values[i + 1]\n",
    "\n",
    "    return (\n",
    "        2\n",
    "        * (\n",
    "            -(x_curr - x_right) * math.sqrt(λ) * math.cos(x_curr * math.sqrt(λ))\n",
    "            + math.sin(x_curr * math.sqrt(λ))\n",
    "            - math.sin(x_right * math.sqrt(λ))\n",
    "        )\n",
    "        + 2\n",
    "        * (\n",
    "            -math.sqrt(λ) * (x_curr - x_left) * math.cos(x_curr * math.sqrt(λ))\n",
    "            + math.sin(x_curr * math.sqrt(λ))\n",
    "            - math.sin(math.sqrt(λ) * x_left)\n",
    "        )\n",
    "    ) / h\n",
    "\n",
    "def dot_basis(λ, x_values, h, i, j):\n",
    "    if i > j:\n",
    "        i, j = j, i\n",
    "\n",
    "    x_left = x_values[i - 1]\n",
    "    x_curr = x_values[i]\n",
    "    x_right = x_values[i + 1]\n",
    "\n",
    "    if i == j:\n",
    "        return (\n",
    "            λ * x_curr**2 * x_right\n",
    "            - λ * x_curr * x_right**2\n",
    "            + (λ * x_right**3) / 3\n",
    "            - λ * x_curr**2 * x_left\n",
    "            + λ * x_curr * x_left**2\n",
    "            - (λ * x_left**3) / 3\n",
    "            + x_right\n",
    "            - x_left\n",
    "        ) / h**2\n",
    "    elif i + 1 == j:\n",
    "        return (\n",
    "            (-1 / 6.0) * (-6 + λ * (x_curr - x_right) ** 2) * (x_curr - x_right)\n",
    "        ) / h**2\n",
    "    else:\n",
    "        return 0"
   ]
  },
  {
   "cell_type": "code",
   "execution_count": 61,
   "metadata": {},
   "outputs": [],
   "source": [
    "def interpolate(x_values, y_values, h, n, x):\n",
    "    l = 0\n",
    "    r = n\n",
    "\n",
    "    while r - l > 1:\n",
    "        m = (l + r) // 2\n",
    "        if x > x_values[m]:\n",
    "            l = m\n",
    "        else:\n",
    "            r = m\n",
    "\n",
    "    res = y_values[l] * basis_function(x_values, h, n, l, x) + y_values[r] * basis_function(x_values, h, n, r, x)\n",
    "    return res"
   ]
  },
  {
   "cell_type": "code",
   "execution_count": 62,
   "metadata": {},
   "outputs": [],
   "source": [
    "def finite_element_method(λ, l, grid_size):\n",
    "    N = grid_size - 1\n",
    "    h = l / (grid_size - 1)\n",
    "    x_values = np.linspace(0, l, grid_size)\n",
    "\n",
    "    n = N - 1\n",
    "    a_coefficients = np.zeros(n)\n",
    "    b_coefficients = np.zeros(n)\n",
    "    c_coefficients = np.zeros(n)\n",
    "    d_coefficients = np.zeros(n)\n",
    "\n",
    "    for i in range(1, N):\n",
    "        j = i - 1\n",
    "\n",
    "        if i - 1 >= 1:\n",
    "            a_coefficients[j] = dot_basis(λ, x_values, h, i - 1, i)\n",
    "\n",
    "        if i + 1 < N:\n",
    "            c_coefficients[j] = dot_basis(λ, x_values, h, i + 1, i)\n",
    "\n",
    "        b_coefficients[j] = dot_basis(λ, x_values, h, i, i)\n",
    "        d_coefficients[j] = dot_f_basis(λ, x_values, h, i)\n",
    "\n",
    "    y = np.zeros(N + 1)\n",
    "    tridiagonal_matrix_algorithm(n, a_coefficients, b_coefficients, c_coefficients, d_coefficients, y[1:])\n",
    "    y[0] = y[N] = 0\n",
    "\n",
    "    return x_values, y"
   ]
  },
  {
   "cell_type": "code",
   "execution_count": 63,
   "metadata": {},
   "outputs": [],
   "source": [
    "def compute_error(λ, n):\n",
    "\n",
    "    l = 4 * math.pi / math.sqrt(λ)\n",
    "    x_values, y_values = finite_element_method(λ, l, n)\n",
    "    theoretical_upper_bound = (l / (n - 1)) ** 2\n",
    "    max_error = 0.0\n",
    "    h = l / (n * 10)\n",
    "\n",
    "    for i in range(n * 10):\n",
    "        x = i * h\n",
    "        interp_value = interpolate(x_values, y_values, l / (n - 1), n - 1, x)\n",
    "        real_value = math.sin(math.sqrt(λ) * x)\n",
    "        curr_error = abs(interp_value - real_value)\n",
    "\n",
    "        if curr_error > max_error:\n",
    "            maximum_error = curr_error\n",
    "    return maximum_error, theoretical_upper_bound\n"
   ]
  },
  {
   "cell_type": "code",
   "execution_count": 64,
   "metadata": {},
   "outputs": [
    {
     "data": {
      "image/png": "[encoded data removed]",
      "text/plain": [
       "<Figure size 640x480 with 1 Axes>"
      ]
     },
     "metadata": {},
     "output_type": "display_data"
    }
   ],
   "source": [
    "ns = [i for i in range(10, 200)]\n",
    "maximum_error = []\n",
    "theoretical_estimate = []\n",
    "\n",
    "for n in ns:\n",
    "    new_max_error, new_theoretical_estimate = compute_error(1, n)\n",
    "    maximum_error.append(new_max_error)\n",
    "    theoretical_estimate.append(new_theoretical_estimate)\n",
    "\n",
    "plt.figure()\n",
    "plt.plot(ns, maximum_error, label='maximum_error')\n",
    "plt.plot(ns, theoretical_estimate, label='theoretical_estimate')\n",
    "plt.xlabel('n')\n",
    "plt.ylabel('max_error & theoretical_estimate')\n",
    "plt.title('Comparison of max_err and theoretical_estimate')\n",
    "plt.legend()\n",
    "plt.show()"
   ]
  }
 ],
 "metadata": {
  "kernelspec": {
   "display_name": ".venv",
   "language": "python",
   "name": "python3"
  },
  "language_info": {
   "codemirror_mode": {
    "name": "ipython",
    "version": 3
   },
   "file_extension": ".py",
   "mimetype": "text/x-python",
   "name": "python",
   "nbconvert_exporter": "python",
   "pygments_lexer": "ipython3",
   "version": "3.12.0"
  }
 },
 "nbformat": 4,
 "nbformat_minor": 2
}
